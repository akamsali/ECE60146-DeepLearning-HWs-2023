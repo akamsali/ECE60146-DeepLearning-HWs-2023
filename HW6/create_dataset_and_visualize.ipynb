{
 "cells": [
  {
   "attachments": {},
   "cell_type": "markdown",
   "metadata": {},
   "source": [
    "First, we build a small subset of dataset for YOLO from MS-COCO dataset. \n",
    "\n",
    "In this implementation I start with 3 classes, \n",
    "namely ```[\"bus\", \"cat\", \"pizza\"]```\n",
    "\n",
    "We further restrict this by limiting images with bounding boxes of \n",
    "atleast $64 \\times 64 = 4096$ pixels using the area entry \n",
    "in the annotation dictionary. \n",
    "\n",
    "Finally, we save the images to disk, resizing them to $256 \\times 256$. Note\n",
    "that we would also need to scale the bounding box parameters\n",
    "accordingly after resizing. This achieved as follows: \n",
    "\n",
    "$x_{scale} = \\frac{{width}_{desired}}{width}$\n",
    "\n",
    "$y_{scale} = \\frac{{height}_{desired}}{height}$\n"
   ]
  },
  {
   "cell_type": "code",
   "execution_count": 14,
   "metadata": {},
   "outputs": [],
   "source": [
    "# from coco_custom import COCO_loader\n",
    "import cv2\n",
    "import numpy as np\n",
    "import pickle\n",
    "import os"
   ]
  },
  {
   "cell_type": "code",
   "execution_count": 15,
   "metadata": {},
   "outputs": [],
   "source": [
    "def clip_file_names(a, location='mac', path='/Users/akshita/Documents/Acads/data/coco_custom_HW6'):\n",
    "    if location == 'vm':\n",
    "        return a\n",
    "    else:\n",
    "        img_path = a.split('/')[-3:]\n",
    "        return(os.path.join(path, *img_path))"
   ]
  },
  {
   "cell_type": "code",
   "execution_count": 2,
   "metadata": {},
   "outputs": [],
   "source": [
    "# categories = [\"bus\", \"cat\", \"pizza\"]\n",
    "\n",
    "# train_cl = COCO_loader()\n",
    "# val_cl = COCO_loader(dataType='val')\n",
    "\n",
    "# for category in categories:\n",
    "#     train_cl.save_images_to_folder(category, min_area=4096)\n",
    "#     val_cl.save_images_to_folder(category, min_area=4096)"
   ]
  },
  {
   "cell_type": "code",
   "execution_count": 3,
   "metadata": {},
   "outputs": [
    {
     "name": "stdout",
     "output_type": "stream",
     "text": [
      "2365 1152\n",
      "2552 1363\n",
      "1973 979\n"
     ]
    }
   ],
   "source": [
    "import pickle\n",
    "\n",
    "categories = [\"bus\", \"cat\", \"pizza\"]\n",
    "total_train = []\n",
    "total_val = []\n",
    "for category in categories:\n",
    "    with open(f'./manifests/train_manifest_{category}.pkl', 'rb') as handle:\n",
    "        train_data = pickle.load(handle)\n",
    "    total_train.append(train_data)\n",
    "    handle.close()\n",
    "\n",
    "    with open(f'./manifests/val_manifest_{category}.pkl', 'rb') as handle:\n",
    "        train_data = pickle.load(handle)\n",
    "    total_val.append(train_data)\n",
    "    handle.close()\n",
    "\n",
    "for i in range(3):\n",
    "    print(len(total_train[i]), len(total_val[i]))\n",
    "# # "
   ]
  },
  {
   "cell_type": "code",
   "execution_count": 8,
   "metadata": {},
   "outputs": [
    {
     "data": {
      "text/plain": [
       "[(1338, 8), (2284, 14), (774, 13)]"
      ]
     },
     "execution_count": 8,
     "metadata": {},
     "output_type": "execute_result"
    }
   ],
   "source": [
    "bbox_count = [(0, 0) for _ in range(3)]\n",
    "for i in range(3):\n",
    "    for j in range(len(total_train[i])):\n",
    "        b_c = len(total_train[i][j]['bboxes'])\n",
    "        if b_c > bbox_count[i][1]:\n",
    "            bbox_count[i] = (j, b_c)\n",
    "bbox_count"
   ]
  },
  {
   "cell_type": "code",
   "execution_count": 18,
   "metadata": {},
   "outputs": [
    {
     "data": {
      "text/plain": [
       "'/Users/akshita/Documents/Acads/data/coco_custom_HW6/cat/train/COCO_train2014_000000244933.jpg'"
      ]
     },
     "execution_count": 18,
     "metadata": {},
     "output_type": "execute_result"
    }
   ],
   "source": [
    "# clip_file_names(total_train[1][2284]['file_name'])"
   ]
  },
  {
   "cell_type": "code",
   "execution_count": null,
   "metadata": {},
   "outputs": [],
   "source": [
    "# num_images = 3\n",
    "# for data_split in [\"train\", \"val\"]:\n",
    "#     all_images = []\n",
    "#     for category in categories:\n",
    "\n",
    "#         split_path = f\"./manifests/{data_split}_manifest_{category}.pkl\"\n",
    "#         with open(split_path, \"rb\") as handle:\n",
    "#             data = pickle.load(handle)\n",
    "        \n",
    "#         cat_count = 0\n",
    "#         cat_images = []\n",
    "#         for d in data:\n",
    "#             if len(d[\"bboxes\"]) > 2 and cat_count < 3:\n",
    "#                 img = cv2.imread(d[\"file_name\"])\n",
    "#                 for bbox in d['bboxes']:\n",
    "#                     x, y, w, h = bbox\n",
    "#                     img = cv2.rectangle(\n",
    "#                         img, (x, y), (x + w, y + h), color=(36, 255, 0), thickness=2\n",
    "#                     )\n",
    "#                     img = cv2.putText(\n",
    "#                         img,\n",
    "#                         org=(x, y - 10),\n",
    "#                         text=d[\"category\"],\n",
    "#                         color=(255, 0, 0),\n",
    "#                         fontFace=cv2.FONT_HERSHEY_SIMPLEX,\n",
    "#                         fontScale=0.8,\n",
    "#                         thickness=2,\n",
    "#                     )\n",
    "\n",
    "#                 cat_count += 1\n",
    "            \n",
    "#                 cat_images.append(img)\n",
    "        \n",
    "#         all_images.append(np.concatenate(cat_images, axis=1))\n",
    "#         # break \n",
    "\n",
    "#     all_images = np.concatenate(all_images, axis=0)\n",
    "\n",
    "#     cv2.imwrite(f\"./solutions/{data_split}_sampled_images.png\", all_images)\n"
   ]
  },
  {
   "cell_type": "code",
   "execution_count": null,
   "metadata": {},
   "outputs": [
    {
     "name": "stdout",
     "output_type": "stream",
     "text": [
      "here\n"
     ]
    }
   ],
   "source": [
    "import os\n",
    "path = './data'\n",
    "if not os.path.exists(path):\n",
    "    print('here')\n",
    "    os.makedirs(path)"
   ]
  }
 ],
 "metadata": {
  "kernelspec": {
   "display_name": "ece60146",
   "language": "python",
   "name": "python3"
  },
  "language_info": {
   "codemirror_mode": {
    "name": "ipython",
    "version": 3
   },
   "file_extension": ".py",
   "mimetype": "text/x-python",
   "name": "python",
   "nbconvert_exporter": "python",
   "pygments_lexer": "ipython3",
   "version": "3.8.15"
  },
  "orig_nbformat": 4,
  "vscode": {
   "interpreter": {
    "hash": "f680f4d97cf514679e00d4da1d9b5ffad508e5bcade52d18cdbe0b82edcbe4b8"
   }
  }
 },
 "nbformat": 4,
 "nbformat_minor": 2
}
