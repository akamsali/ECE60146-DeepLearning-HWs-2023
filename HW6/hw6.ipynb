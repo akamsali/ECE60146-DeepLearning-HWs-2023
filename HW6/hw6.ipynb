{
 "cells": [
  {
   "cell_type": "code",
   "execution_count": null,
   "metadata": {},
   "outputs": [],
   "source": []
  },
  {
   "cell_type": "code",
   "execution_count": 1,
   "metadata": {},
   "outputs": [],
   "source": [
    "# from dataset import MyDataset\n",
    "\n",
    "# from torch.utils.data import DataLoader\n",
    "\n",
    "# categories = [\"bus\", \"cat\", \"pizza\"]\n",
    "# batch_size=4\n",
    "\n",
    "# train_dataset = MyDataset(categories=categories, split=\"train\")\n",
    "# train_dataloader = DataLoader(train_dataset, batch_size=batch_size)"
   ]
  }
 ],
 "metadata": {
  "kernelspec": {
   "display_name": "ece60146",
   "language": "python",
   "name": "python3"
  },
  "language_info": {
   "codemirror_mode": {
    "name": "ipython",
    "version": 3
   },
   "file_extension": ".py",
   "mimetype": "text/x-python",
   "name": "python",
   "nbconvert_exporter": "python",
   "pygments_lexer": "ipython3",
   "version": "3.8.15"
  },
  "orig_nbformat": 4
 },
 "nbformat": 4,
 "nbformat_minor": 2
}
