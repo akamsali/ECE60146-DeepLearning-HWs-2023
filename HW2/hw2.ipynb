{
 "cells": [
  {
   "cell_type": "code",
   "execution_count": 1,
   "metadata": {},
   "outputs": [],
   "source": [
    "import torchvision.transforms as tvt\n",
    "import torch\n",
    "\n",
    "import numpy as np\n",
    "import matplotlib.pyplot as plt\n",
    "from PIL import Image\n",
    "import PIL\n",
    "\n",
    "\n",
    "# img1 = Image.open('data/front.jpg')\n",
    "# img2 = Image.open('data/oblique.jpg')\n",
    "\n",
    "img1 = Image.open('three.jpg')\n",
    "img2 = Image.open('two.jpg')\n",
    "affine_tr = tvt.RandomAffine((50, 60))\n",
    "img1 = affine_tr(img1)\n",
    "# display(img1)\n",
    "\n",
    "# replace the following with new points\n",
    "two = [[623, 589], [653, 1193], [958, 1143], [928, 722]]\n",
    "three = [[440, 691], [453, 1234], [1088, 1229], [1094, 691]]\n",
    "\n",
    "transformed_image = tvt.functional.perspective(img2, startpoints=two, endpoints=three)"
   ]
  },
  {
   "cell_type": "code",
   "execution_count": 2,
   "metadata": {},
   "outputs": [],
   "source": [
    "def get_hist(img):\n",
    "    tensor_img = tvt.functional.pil_to_tensor(img).float()\n",
    "    hist_img = torch.histc(tensor_img, bins=10, min=0, max=255)\n",
    "    hist_img = hist_img.div(hist_img.sum())\n",
    "    return hist_img\n",
    "\n",
    "hist_img1 = get_hist(img1)\n",
    "hist_img2 = get_hist(transformed_image)# a"
   ]
  },
  {
   "cell_type": "code",
   "execution_count": 4,
   "metadata": {},
   "outputs": [],
   "source": [
    "from scipy.stats import wasserstein_distance\n",
    "\n",
    "dist = wasserstein_distance(hist_img1.cpu().numpy(), \n",
    "                            hist_img2.cpu().numpy())"
   ]
  },
  {
   "cell_type": "code",
   "execution_count": 6,
   "metadata": {},
   "outputs": [
    {
     "data": {
      "text/plain": [
       "tensor([0.2420, 0.0110, 0.0133, 0.0117, 0.0371, 0.0731, 0.2095, 0.2238, 0.1773,\n",
       "        0.0011])"
      ]
     },
     "execution_count": 6,
     "metadata": {},
     "output_type": "execute_result"
    }
   ],
   "source": [
    "hist_img1"
   ]
  }
 ],
 "metadata": {
  "kernelspec": {
   "display_name": "ece60146",
   "language": "python",
   "name": "ece60146"
  },
  "language_info": {
   "codemirror_mode": {
    "name": "ipython",
    "version": 3
   },
   "file_extension": ".py",
   "mimetype": "text/x-python",
   "name": "python",
   "nbconvert_exporter": "python",
   "pygments_lexer": "ipython3",
   "version": "3.8.15 (default, Nov 24 2022, 09:04:07) \n[Clang 14.0.6 ]"
  },
  "orig_nbformat": 4,
  "vscode": {
   "interpreter": {
    "hash": "0ae1c7a0ea8ba8f965de3a6463436fb89ce56e137873376e122f5b001a1fe97c"
   }
  }
 },
 "nbformat": 4,
 "nbformat_minor": 2
}
