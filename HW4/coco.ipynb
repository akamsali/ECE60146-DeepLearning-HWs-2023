{
 "cells": [
  {
   "cell_type": "code",
   "execution_count": 1,
   "metadata": {},
   "outputs": [],
   "source": [
    "# from coco_dataloader import COCO_loader\n",
    "\n",
    "# cl = COCO_loader()\n"
   ]
  },
  {
   "cell_type": "code",
   "execution_count": 2,
   "metadata": {},
   "outputs": [],
   "source": [
    "from models import HW4Net1, HW4Net2, HW4Net3\n",
    "\n",
    "import numpy as np\n",
    "import matplotlib.pyplot as plt\n",
    "import pylab\n",
    "pylab.rcParams['figure.figsize'] = (8.0, 10.0)\n",
    "import os\n",
    "import cv2\n",
    "\n",
    "from tqdm import tqdm"
   ]
  },
  {
   "cell_type": "code",
   "execution_count": 3,
   "metadata": {},
   "outputs": [],
   "source": [
    "# # get all images containing given categories, select one at random\n",
    "# categories = ['airplane', 'bus', 'cat', 'dog', 'pizza']\n",
    "\n",
    "# # def get_plots(image_list):\n",
    "# data_path = '/mnt/cloudNAS4/akshita/Documents/datasets/coco_custom'\n",
    "# num_images = 3\n",
    "# all_images = []\n",
    "# for category in categories:\n",
    "#     cat_images = []\n",
    "#     path = os.path.join(data_path, category, 'train')\n",
    "#     image_list = os.listdir(path)[:num_images]\n",
    "#     # print(image_list)\n",
    "#     for img in image_list:\n",
    "#         img = cv2.imread(os.path.join(path, img))\n",
    "#         cat_images.append(img)\n",
    "#     tot_images = np.concatenate(cat_images, axis=1)\n",
    "\n",
    "#     all_images.append(tot_images)\n",
    "\n",
    "# all_images = np.concatenate(all_images, axis=0)\n",
    "\n",
    "# cv2.imwrite(\"results/sampled_images.png\", all_images)"
   ]
  },
  {
   "cell_type": "code",
   "execution_count": 4,
   "metadata": {},
   "outputs": [],
   "source": [
    "from dataset import MyDataset\n",
    "from torch.utils.data import DataLoader\n",
    "import torch\n",
    "import torch.nn as nn\n",
    "import csv\n",
    "\n",
    "torch.manual_seed(60146)\n",
    "\n",
    "categories = ['airplane', 'bus', 'cat', 'dog', 'pizza']\n",
    "data_path = '/mnt/cloudNAS4/akshita/Documents/datasets/coco_custom'\n",
    "train_dataset = MyDataset(root=data_path, categories=categories, split='train')\n",
    "\n",
    "batch_size = 16\n",
    "train_dataloader = DataLoader(train_dataset, batch_size=batch_size, shuffle=True)\n",
    "\n",
    "\n",
    "def train(net, train_dataloader, epochs=10, net_name='net_name'):\n",
    "    device = 'cuda' if torch.cuda.is_available() == True else 'cpu'\n",
    "    net.train()\n",
    "    net = net.to(device=device)\n",
    "\n",
    "    criterion = nn.CrossEntropyLoss()\n",
    "    optimizer = torch.optim.Adam(net.parameters(), lr=1e-3, betas=(0.9, 0.99))\n",
    "\n",
    "    # tot_loss = []\n",
    "    for epoch in tqdm(range(epochs)):\n",
    "        running_loss = 0.0\n",
    "        loss_flag = 1e32\n",
    "        for i, data in enumerate(train_dataloader):\n",
    "            inputs, labels = data\n",
    "            inputs = inputs.to(device)\n",
    "            labels = labels.to(device)\n",
    "            optimizer.zero_grad()\n",
    "            outputs = net(inputs)\n",
    "            loss = criterion(outputs, labels)\n",
    "            loss.backward()\n",
    "            optimizer.step()\n",
    "            running_loss += loss.item()\n",
    "            if (i+1)% 100 == 0:\n",
    "                # opening the csv file in 'w+' mode\n",
    "                # print(\"[epoch]: %d, batch: %5d] loss: %.3f\" %(epoch+1, i+1, running_loss / 100))\n",
    "                data = [epoch+1, i+1, running_loss/100]\n",
    "                file = open('results/'+net_name + '.csv', 'a', newline ='')\n",
    "                # writing the data into the file\n",
    "                with file:   \n",
    "                    write = csv.writer(file)\n",
    "                    write.writerow(data)\n",
    "                \n",
    "                # tot_loss.append(running_loss/100)\n",
    "                if running_loss < loss_flag:\n",
    "                    loss_flag = running_loss\n",
    "                    torch.save(net.state_dict(), 'results/' + net_name + '.pt')\n",
    "                running_loss = 0.0\n",
    "\n",
    "    # return tot_loss\n",
    "\n",
    "\n",
    "# torch.save(net.state_dict(), 'HW4/results/net1.pt')\n",
    "# np.save('first_net.npy', np.array(loss_1), allow_pickle=True)\n"
   ]
  },
  {
   "cell_type": "code",
   "execution_count": 5,
   "metadata": {},
   "outputs": [
    {
     "name": "stderr",
     "output_type": "stream",
     "text": [
      "100%|██████████| 10/10 [02:16<00:00, 13.62s/it]\n",
      "100%|██████████| 10/10 [02:39<00:00, 15.92s/it]\n",
      "100%|██████████| 10/10 [04:50<00:00, 29.04s/it]\n"
     ]
    }
   ],
   "source": [
    "net = HW4Net1()\n",
    "train(net=net, train_dataloader=train_dataloader, epochs=10, net_name='Net1')\n",
    "\n",
    "net = HW4Net2()\n",
    "train(net=net, train_dataloader=train_dataloader, epochs=10, net_name='Net2')\n",
    "\n",
    "net = HW4Net3()\n",
    "train(net, train_dataloader=train_dataloader, epochs=10, net_name='Net3')"
   ]
  },
  {
   "attachments": {},
   "cell_type": "markdown",
   "metadata": {},
   "source": [
    "$Input: (B, C_{in}, H_{in}, W_{in})$ \n",
    "\n",
    "$Output: (B, C_{out}, H_{out}, W_{out})$\n",
    "\n",
    "$$H_{out} = floor\\left( \\frac{H_{in} + 2\\times pad[0] - dilation[0] \\times (kernel - 1) -1 }{stride[0]} +1 \\right)$$\n",
    "$$W_{out} = floor\\left( \\frac{W_{in} + 2\\times pad[1] - dilation[1] \\times (kernel - 1) -1 }{stride[1]} +1 \\right)$$\n",
    "\n",
    "In *Net1*, ```dilation``` and ```stride``` are set to default values, i.e., both 1 and ```pad = 0``` . Above equations are transformed to:\n",
    "\n",
    "$$H_{out} = floor\\left( H_{in} - kernel + 1 \\right)$$\n",
    "$$W_{out} = floor\\left( W_{in} - kernel + 1 \\right)$$\n",
    "\n",
    "In *Net2*, ```dilation``` and ```stride``` are set to default values, i.e., both 1 and ```pad = 1``` . Above equations are transformed to:\n",
    "\n",
    "$$H_{out} = floor\\left( H_{in} + 2 - kernel + 1 \\right) = floor\\left( H_{in}  - kernel + 3 \\right)$$\n",
    "$$W_{out} = floor\\left( W_{in} + 2 - kernel + 1 \\right) = floor\\left( W_{in}  - kernel + 3 \\right)$$\n",
    "\n"
   ]
  }
 ],
 "metadata": {
  "kernelspec": {
   "display_name": "ece60146",
   "language": "python",
   "name": "python3"
  },
  "language_info": {
   "codemirror_mode": {
    "name": "ipython",
    "version": 3
   },
   "file_extension": ".py",
   "mimetype": "text/x-python",
   "name": "python",
   "nbconvert_exporter": "python",
   "pygments_lexer": "ipython3",
   "version": "3.8.15"
  },
  "orig_nbformat": 4,
  "vscode": {
   "interpreter": {
    "hash": "f680f4d97cf514679e00d4da1d9b5ffad508e5bcade52d18cdbe0b82edcbe4b8"
   }
  }
 },
 "nbformat": 4,
 "nbformat_minor": 2
}
