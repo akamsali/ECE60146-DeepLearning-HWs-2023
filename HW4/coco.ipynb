{
 "cells": [
  {
   "attachments": {},
   "cell_type": "markdown",
   "metadata": {},
   "source": [
    "$Input: (B, C_{in}, H_{in}, W_{in})$ \n",
    "\n",
    "$Output: (B, C_{out}, H_{out}, W_{out})$\n",
    "\n",
    "$$H_{out} = floor\\left( \\frac{H_{in} + 2\\times pad[0] - dilation[0] \\times (kernel - 1) -1 }{stride[0]} +1 \\right)$$\n",
    "$$W_{out} = floor\\left( \\frac{W_{in} + 2\\times pad[1] - dilation[1] \\times (kernel - 1) -1 }{stride[1]} +1 \\right)$$\n",
    "\n",
    "In *Net1*, ```dilation``` and ```stride``` are set to default values, i.e., both 1 and ```pad = 0``` . Above equations are transformed to:\n",
    "\n",
    "$$H_{out} = floor\\left( H_{in} - kernel + 1 \\right)$$\n",
    "$$W_{out} = floor\\left( W_{in} - kernel + 1 \\right)$$\n",
    "\n",
    "In *Net2*, ```dilation``` and ```stride``` are set to default values, i.e., both 1 and ```pad = 1``` . Above equations are transformed to:\n",
    "\n",
    "$$H_{out} = floor\\left( H_{in} + 2 - kernel + 1 \\right) = floor\\left( H_{in}  - kernel + 3 \\right)$$\n",
    "$$W_{out} = floor\\left( W_{in} + 2 - kernel + 1 \\right) = floor\\left( W_{in}  - kernel + 3 \\right)$$\n",
    "\n"
   ]
  }
 ],
 "metadata": {
  "kernelspec": {
   "display_name": "ece60146",
   "language": "python",
   "name": "python3"
  },
  "language_info": {
   "codemirror_mode": {
    "name": "ipython",
    "version": 3
   },
   "file_extension": ".py",
   "mimetype": "text/x-python",
   "name": "python",
   "nbconvert_exporter": "python",
   "pygments_lexer": "ipython3",
   "version": "3.8.15"
  },
  "orig_nbformat": 4,
  "vscode": {
   "interpreter": {
    "hash": "f680f4d97cf514679e00d4da1d9b5ffad508e5bcade52d18cdbe0b82edcbe4b8"
   }
  }
 },
 "nbformat": 4,
 "nbformat_minor": 2
}
