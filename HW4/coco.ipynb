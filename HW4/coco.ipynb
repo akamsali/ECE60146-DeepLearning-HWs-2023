{
 "cells": [
  {
   "cell_type": "code",
   "execution_count": 1,
   "metadata": {},
   "outputs": [],
   "source": [
    "from pycocotools.coco import COCO\n",
    "import numpy as np\n",
    "import skimage.io as io\n",
    "import matplotlib.pyplot as plt\n",
    "import pylab\n",
    "pylab.rcParams['figure.figsize'] = (8.0, 10.0)\n",
    "import os\n",
    "import cv2"
   ]
  },
  {
   "cell_type": "code",
   "execution_count": 3,
   "metadata": {},
   "outputs": [
    {
     "name": "stdout",
     "output_type": "stream",
     "text": [
      "loading annotations into memory...\n",
      "Done (t=17.02s)\n",
      "creating index...\n",
      "index created!\n"
     ]
    },
    {
     "ename": "TypeError",
     "evalue": "save_images_to_folder() missing 2 required positional arguments: 'train_size' and 'val_size'",
     "output_type": "error",
     "traceback": [
      "\u001b[0;31m---------------------------------------------------------------------------\u001b[0m",
      "\u001b[0;31mTypeError\u001b[0m                                 Traceback (most recent call last)",
      "Cell \u001b[0;32mIn[3], line 53\u001b[0m\n\u001b[1;32m     48\u001b[0m                 train_path \u001b[39m=\u001b[39m os\u001b[39m.\u001b[39mpath\u001b[39m.\u001b[39mjoin(path, \u001b[39m'\u001b[39m\u001b[39mtrain\u001b[39m\u001b[39m'\u001b[39m)\n\u001b[1;32m     52\u001b[0m cl \u001b[39m=\u001b[39m COCO_loader()\n\u001b[0;32m---> 53\u001b[0m cl\u001b[39m.\u001b[39;49msave_images_to_folder(\u001b[39m'\u001b[39;49m\u001b[39mairplane\u001b[39;49m\u001b[39m'\u001b[39;49m)\n",
      "\u001b[0;31mTypeError\u001b[0m: save_images_to_folder() missing 2 required positional arguments: 'train_size' and 'val_size'"
     ]
    }
   ],
   "source": [
    "class COCO_loader:\n",
    "    def __init__(self, dataDir='/mnt/cloudNAS4/jo/coco', \n",
    "                    dataType='train2014', \n",
    "                    ) -> None:\n",
    "\n",
    "        self.data_dir = dataDir\n",
    "        self.data_type = dataType\n",
    "    \n",
    "        self.annFile='{}/annotations/instances_{}.json'.format(self.data_dir,self.data_type)\n",
    "        # initialize COCO api for instance annotations\n",
    "        self.coco=COCO(self.annFile)\n",
    "        self.cats = self.coco.loadCats(self.coco.getCatIds())\n",
    "\n",
    "    def display_cartegories(self):\n",
    "        nms=[cat['name'] for cat in self.cats]\n",
    "        print('COCO categories: \\n{}\\n'.format(' '.join(nms)))\n",
    "\n",
    "    # display COCO categories and supercategories\n",
    "    def display_supercats(self):\n",
    "        nms = set([cat['supercategory'] for cat in self.cats])\n",
    "        print('COCO supercategories: \\n{}'.format(' '.join(nms)))\n",
    "\n",
    "    def get_img_list(self, category, train_size, val_size):\n",
    "        catIds = self.coco.getCatIds(catNms=category)\n",
    "        imgIds = self.coco.getImgIds(catIds=catIds )\n",
    "        img_dict = self.coco.loadImgs(ids=imgIds)\n",
    "        train = [img_dict[i]['file_name'] for i in range(train_size)]\n",
    "        val = [img_dict[i]['file_name'] for i in range(train_size, train_size+val_size)]\n",
    "\n",
    "        return train, val\n",
    "    \n",
    "    def save_images_to_folder(self, category, train_size=5, val_size=5,\n",
    "                              data_path='/mnt/cloudNAS4/akshita/Documents/datasets/coco_custom'):\n",
    "\n",
    "        path = os.path.join(data_path, category)\n",
    "\n",
    "        if os.path.exists(os.path.join(path, 'train')) \\\n",
    "            and os.path.exists(os.path.join(path, 'val')) \\\n",
    "            and len(os.listdir(os.path.join(path, 'train'))) == train_size \\\n",
    "            and len(os.listdir(os.path.join(path, 'val'))) == val_size:\n",
    "\n",
    "            print(f\"{category} already present\")\n",
    "\n",
    "        else:\n",
    "            if not os.path.exists(os.path.join(path, 'train')):\n",
    "                os.makedirs(os.path.join(path, 'train'))\n",
    "            if not os.path.exists(os.path.join(path, 'val')):\n",
    "                os.makedirs(os.path.join(path, 'val'))\n",
    "\n",
    "            train_list, val_list = self.get_img_list(category=category, \n",
    "                                                     train_size=train_size, \n",
    "                                                     val_size=val_size)\n",
    "            \n",
    "            \n",
    "            coco_path = os.path.join(self.data_dir, 'images')\n",
    "            train_path = os.path.join(path, 'train')\n",
    "            val_path = os.path.join(path, 'val')\n",
    "            \n",
    "            for tf in train_list:\n",
    "                img = cv2.imread(os.path.join(coco_path, tf))\n",
    "                img = cv2.resize(img, (64,64), cv2.INTER_AREA)\n",
    "                cv2.imwrite(os.path.join(train_path, tf), img)\n",
    "            for vf in val_list:\n",
    "                img = cv2.imread(os.path.join(coco_path, vf))\n",
    "                img = cv2.resize(img, (64,64), cv2.INTER_AREA)\n",
    "                cv2.imwrite(os.path.join(val_path, vf), img) \n",
    "        \n",
    "data_path = '/mnt/cloudNAS4/akshita/Documents/datasets/coco_custom'\n",
    "cl = COCO_loader()\n",
    "cl.save_images_to_folder('airplane')\n"
   ]
  },
  {
   "cell_type": "code",
   "execution_count": null,
   "metadata": {},
   "outputs": [],
   "source": [
    "# get all images containing given categories, select one at random\n",
    "categories = ['airplane', 'bus', 'cat', 'dog', 'pizza']\n",
    "\n",
    "# for category in categories:\n",
    "\n",
    "\n"
   ]
  }
 ],
 "metadata": {
  "kernelspec": {
   "display_name": "ece60146",
   "language": "python",
   "name": "python3"
  },
  "language_info": {
   "codemirror_mode": {
    "name": "ipython",
    "version": 3
   },
   "file_extension": ".py",
   "mimetype": "text/x-python",
   "name": "python",
   "nbconvert_exporter": "python",
   "pygments_lexer": "ipython3",
   "version": "3.8.15"
  },
  "orig_nbformat": 4,
  "vscode": {
   "interpreter": {
    "hash": "f680f4d97cf514679e00d4da1d9b5ffad508e5bcade52d18cdbe0b82edcbe4b8"
   }
  }
 },
 "nbformat": 4,
 "nbformat_minor": 2
}
