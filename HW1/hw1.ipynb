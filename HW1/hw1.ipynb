{
 "cells": [
  {
   "cell_type": "code",
   "execution_count": 2,
   "metadata": {},
   "outputs": [
    {
     "data": {
      "text/plain": [
       "[1, 2, 3, 5, 8]"
      ]
     },
     "execution_count": 2,
     "metadata": {},
     "output_type": "execute_result"
    }
   ],
   "source": [
    "class Sequence(object):\n",
    "    def __init__(self, array: list) -> None:\n",
    "        self.array = array\n",
    "\n",
    "class Fibonacci(Sequence):\n",
    "    def __init__(self, first_value: int, second_value: int) -> None:\n",
    "        super().__init__(array=[first_value, second_value])\n",
    "\n",
    "    def __call__(self, len: int) -> list:\n",
    "        for i in range(len - 2):\n",
    "            # adding last two numbers in the array\n",
    "            self.array.append(self.array[-1] + self.array[-2])\n",
    "        return self.array\n",
    "    \n",
    "    def __iter__(self):\n",
    "        return self.array.__iter__()\n",
    "\n",
    "FS = Fibonacci(1, 2)\n",
    "FS(len=5)"
   ]
  },
  {
   "cell_type": "code",
   "execution_count": 4,
   "metadata": {},
   "outputs": [
    {
     "data": {
      "text/plain": [
       "array([False,  True,  True])"
      ]
     },
     "execution_count": 4,
     "metadata": {},
     "output_type": "execute_result"
    }
   ],
   "source": [
    "import numpy as np\n",
    "np.array([1, 2, 3]) > np.array([2, 1, 2])"
   ]
  }
 ],
 "metadata": {
  "kernelspec": {
   "display_name": "Python 3.8.13 ('ece661')",
   "language": "python",
   "name": "python3"
  },
  "language_info": {
   "codemirror_mode": {
    "name": "ipython",
    "version": 3
   },
   "file_extension": ".py",
   "mimetype": "text/x-python",
   "name": "python",
   "nbconvert_exporter": "python",
   "pygments_lexer": "ipython3",
   "version": "3.8.13"
  },
  "orig_nbformat": 4,
  "vscode": {
   "interpreter": {
    "hash": "0ae1c7a0ea8ba8f965de3a6463436fb89ce56e137873376e122f5b001a1fe97c"
   }
  }
 },
 "nbformat": 4,
 "nbformat_minor": 2
}
