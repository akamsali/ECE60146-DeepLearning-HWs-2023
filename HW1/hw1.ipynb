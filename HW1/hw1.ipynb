{
 "cells": [
  {
   "attachments": {},
   "cell_type": "markdown",
   "metadata": {},
   "source": [
    "# ECE 60146 HW 1\n",
    "### Akshita Kamsali\n",
    "### akamsali@purdue.edu"
   ]
  },
  {
   "attachments": {},
   "cell_type": "markdown",
   "metadata": {},
   "source": [
    "### 1. Creating a class ```Sequence```\n",
    "\n",
    "Creating ```__init__``` and overloading ```__gt__``` in Sequence class "
   ]
  },
  {
   "cell_type": "code",
   "execution_count": 1,
   "metadata": {},
   "outputs": [],
   "source": [
    "class Sequence(object):\n",
    "    def __init__(self, array: list) -> None:\n",
    "        self.array = array\n",
    "\n",
    "    # overload the \">\" operator using the __gt__ method\n",
    "    def __gt__(self, second: 'Sequence') -> bool:\n",
    "        # check if the two arrays are of equal length\n",
    "        if len(self.array) != len(second.array):\n",
    "            raise ValueError('Two arrays are not equal in length!')\n",
    "        #initialise the count to zero\n",
    "        num_gt = 0\n",
    "        for i in range(len(self.array)):\n",
    "            if self.array[i] > second.array[i]:\n",
    "                num_gt += 1\n",
    "        return num_gt"
   ]
  },
  {
   "attachments": {},
   "cell_type": "markdown",
   "metadata": {},
   "source": [
    "### 2. Creating a class ```Fibonacci```\n",
    "Create class and overload ```__call__, __len__, __iter__```\n",
    "Outputs are shown below"
   ]
  },
  {
   "cell_type": "code",
   "execution_count": 2,
   "metadata": {},
   "outputs": [
    {
     "name": "stdout",
     "output_type": "stream",
     "text": [
      "Function call:  [1, 2, 3, 5, 8]\n",
      "Length:  5\n",
      "Iterable:  [1, 2, 3, 5, 8]\n"
     ]
    }
   ],
   "source": [
    "\n",
    "class Fibonacci(Sequence):\n",
    "    def __init__(self, first_value: int, second_value: int) -> None:\n",
    "        super().__init__([])\n",
    "        self.first_value = first_value\n",
    "        self.second_value = second_value\n",
    "\n",
    "    def __call__(self, length=5) -> list:\n",
    "        #intialise the array with the first two values\n",
    "        self.array = [self.first_value, self.second_value]\n",
    "        for i in range(length - 2):\n",
    "            # adding last two numbers in the array\n",
    "            self.array.append(self.array[-1] + self.array[-2])\n",
    "        return self.array\n",
    "\n",
    "    def __len__(self):\n",
    "        return len(self.array)\n",
    "    def __iter__(self):\n",
    "        return F_iterator(self)\n",
    "\n",
    "# reference from Avi's slides\n",
    "class F_iterator:\n",
    "    def __init__(self, F):\n",
    "        self.F = F.array\n",
    "        self.index = 0\n",
    "\n",
    "    def __next__(self):\n",
    "        if self.index >= len(self.F):\n",
    "            raise StopIteration\n",
    "        else:\n",
    "            self.index += 1\n",
    "            return self.F[self.index - 1]\n",
    "\n",
    "    def __iter__(self):\n",
    "        return self\n",
    "\n",
    "\n",
    "FS = Fibonacci(1, 2)\n",
    "print(\"Function call: \", FS(length=5))\n",
    "print(\"Length: \", len(FS))\n",
    "print(\"Iterable: \", [n for n in FS])"
   ]
  },
  {
   "attachments": {},
   "cell_type": "markdown",
   "metadata": {},
   "source": [
    "### 3. Creating a class ```Prime```\n",
    "Create class and overload ```__call__, __len__, __iter__```\n",
    "Outputs are shown below"
   ]
  },
  {
   "cell_type": "code",
   "execution_count": 3,
   "metadata": {},
   "outputs": [
    {
     "name": "stdout",
     "output_type": "stream",
     "text": [
      "Function call:  [2, 3, 5, 7, 11, 13, 17, 19]\n",
      "Length:  8\n",
      "Iterable:  [2, 3, 5, 7, 11, 13, 17, 19]\n"
     ]
    }
   ],
   "source": [
    "class Prime(Sequence):\n",
    "    def __init__(self):\n",
    "        Sequence.__init__(self, [])\n",
    "    \n",
    "    def isPrime(self, n: int):\n",
    "        for i in range(2, n//2 + 1):\n",
    "            if n % i == 0:\n",
    "                return 0\n",
    "        return 1\n",
    "\n",
    "    def __call__(self, length=5):\n",
    "        self.array = []\n",
    "        i = 2\n",
    "        while len(self.array) < length:\n",
    "            if self.isPrime(i):\n",
    "                self.array.append(i)\n",
    "            i += 1\n",
    "        return self.array\n",
    "        \n",
    "    def __len__(self):\n",
    "        return len(self.array)\n",
    "\n",
    "    def __iter__(self):\n",
    "        return F_iterator(self)\n",
    "\n",
    "PS = Prime()\n",
    "print(\"Function call: \", PS(length=8))\n",
    "print(\"Length: \", len(PS))\n",
    "print(\"Iterable: \", [n for n in PS])"
   ]
  },
  {
   "attachments": {},
   "cell_type": "markdown",
   "metadata": {},
   "source": [
    "### 4. Comparing classes ```Prime``` and ```Fibonacci``` with ```>``` operator\n",
    "\n",
    "Outputs are shown below for overloaded ``` > ``` operator"
   ]
  },
  {
   "cell_type": "code",
   "execution_count": 4,
   "metadata": {},
   "outputs": [
    {
     "name": "stdout",
     "output_type": "stream",
     "text": [
      "FS call to len 8:  [1, 2, 3, 5, 8, 13, 21, 34]\n",
      "PS call to len 8:  [2, 3, 5, 7, 11, 13, 17, 19]\n",
      "FS > PS call:  2\n",
      "PS call to len 5: \n"
     ]
    },
    {
     "ename": "ValueError",
     "evalue": "Two arrays are not equal in length!",
     "output_type": "error",
     "traceback": [
      "\u001b[0;31m---------------------------------------------------------------------------\u001b[0m",
      "\u001b[0;31mValueError\u001b[0m                                Traceback (most recent call last)",
      "\u001b[1;32m/Users/akshita/Documents/Acads/ECE60146/HW1/hw1.ipynb Cell 9\u001b[0m in \u001b[0;36m<cell line: 8>\u001b[0;34m()\u001b[0m\n\u001b[1;32m      <a href='vscode-notebook-cell:/Users/akshita/Documents/Acads/ECE60146/HW1/hw1.ipynb#X11sZmlsZQ%3D%3D?line=5'>6</a>\u001b[0m \u001b[39mprint\u001b[39m(\u001b[39m\"\u001b[39m\u001b[39mPS call to len 5: \u001b[39m\u001b[39m\"\u001b[39m )\n\u001b[1;32m      <a href='vscode-notebook-cell:/Users/akshita/Documents/Acads/ECE60146/HW1/hw1.ipynb#X11sZmlsZQ%3D%3D?line=6'>7</a>\u001b[0m PS(length\u001b[39m=\u001b[39m\u001b[39m5\u001b[39m)\n\u001b[0;32m----> <a href='vscode-notebook-cell:/Users/akshita/Documents/Acads/ECE60146/HW1/hw1.ipynb#X11sZmlsZQ%3D%3D?line=7'>8</a>\u001b[0m \u001b[39mprint\u001b[39m(\u001b[39m\"\u001b[39m\u001b[39mFS > PS call: \u001b[39m\u001b[39m\"\u001b[39m, FS \u001b[39m>\u001b[39;49m PS)\n",
      "\u001b[1;32m/Users/akshita/Documents/Acads/ECE60146/HW1/hw1.ipynb Cell 9\u001b[0m in \u001b[0;36mSequence.__gt__\u001b[0;34m(self, second)\u001b[0m\n\u001b[1;32m      <a href='vscode-notebook-cell:/Users/akshita/Documents/Acads/ECE60146/HW1/hw1.ipynb#X11sZmlsZQ%3D%3D?line=5'>6</a>\u001b[0m \u001b[39mdef\u001b[39;00m \u001b[39m__gt__\u001b[39m(\u001b[39mself\u001b[39m, second: \u001b[39m'\u001b[39m\u001b[39mSequence\u001b[39m\u001b[39m'\u001b[39m) \u001b[39m-\u001b[39m\u001b[39m>\u001b[39m \u001b[39mbool\u001b[39m:\n\u001b[1;32m      <a href='vscode-notebook-cell:/Users/akshita/Documents/Acads/ECE60146/HW1/hw1.ipynb#X11sZmlsZQ%3D%3D?line=6'>7</a>\u001b[0m     \u001b[39m# check if the two arrays are of equal length\u001b[39;00m\n\u001b[1;32m      <a href='vscode-notebook-cell:/Users/akshita/Documents/Acads/ECE60146/HW1/hw1.ipynb#X11sZmlsZQ%3D%3D?line=7'>8</a>\u001b[0m     \u001b[39mif\u001b[39;00m \u001b[39mlen\u001b[39m(\u001b[39mself\u001b[39m\u001b[39m.\u001b[39marray) \u001b[39m!=\u001b[39m \u001b[39mlen\u001b[39m(second\u001b[39m.\u001b[39marray):\n\u001b[0;32m----> <a href='vscode-notebook-cell:/Users/akshita/Documents/Acads/ECE60146/HW1/hw1.ipynb#X11sZmlsZQ%3D%3D?line=8'>9</a>\u001b[0m         \u001b[39mraise\u001b[39;00m \u001b[39mValueError\u001b[39;00m(\u001b[39m'\u001b[39m\u001b[39mTwo arrays are not equal in length!\u001b[39m\u001b[39m'\u001b[39m)\n\u001b[1;32m     <a href='vscode-notebook-cell:/Users/akshita/Documents/Acads/ECE60146/HW1/hw1.ipynb#X11sZmlsZQ%3D%3D?line=9'>10</a>\u001b[0m     \u001b[39m#initialise the count to zero\u001b[39;00m\n\u001b[1;32m     <a href='vscode-notebook-cell:/Users/akshita/Documents/Acads/ECE60146/HW1/hw1.ipynb#X11sZmlsZQ%3D%3D?line=10'>11</a>\u001b[0m     num_gt \u001b[39m=\u001b[39m \u001b[39m0\u001b[39m\n",
      "\u001b[0;31mValueError\u001b[0m: Two arrays are not equal in length!"
     ]
    }
   ],
   "source": [
    "FS = Fibonacci(1, 2)\n",
    "print(\"FS call to len 8: \", FS(length=8))\n",
    "PS = Prime()\n",
    "print(\"PS call to len 8: \", PS(length=8))\n",
    "print(\"FS > PS call: \", FS > PS)\n",
    "print(\"PS call to len 5: \" )\n",
    "PS(length=5)\n",
    "print(\"FS > PS call: \", FS > PS)\n"
   ]
  }
 ],
 "metadata": {
  "kernelspec": {
   "display_name": "ece661",
   "language": "python",
   "name": "python3"
  },
  "language_info": {
   "codemirror_mode": {
    "name": "ipython",
    "version": 3
   },
   "file_extension": ".py",
   "mimetype": "text/x-python",
   "name": "python",
   "nbconvert_exporter": "python",
   "pygments_lexer": "ipython3",
   "version": "3.8.13"
  },
  "orig_nbformat": 4,
  "vscode": {
   "interpreter": {
    "hash": "0ae1c7a0ea8ba8f965de3a6463436fb89ce56e137873376e122f5b001a1fe97c"
   }
  }
 },
 "nbformat": 4,
 "nbformat_minor": 2
}
